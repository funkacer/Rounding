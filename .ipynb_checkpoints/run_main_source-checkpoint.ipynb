{
 "cells": [
  {
   "cell_type": "code",
   "execution_count": 6,
   "metadata": {},
   "outputs": [],
   "source": [
    "import sys"
   ]
  },
  {
   "cell_type": "code",
   "execution_count": 7,
   "metadata": {},
   "outputs": [],
   "source": [
    "def rd(number: float, precision: int = 0) -> (float, str):\n",
    "    '''\n",
    "    Returns rounded float and string with defined precicion.\n",
    "    \n",
    "    INPUT:\n",
    "    number: float, to be rounded\n",
    "    precision: int, precision used whe rounding\n",
    "    \n",
    "    OUTPUT:\n",
    "    round_float: float\n",
    "    round_str: str\n",
    "    '''\n",
    "    fin = 1\n",
    "    if number < 0: fin = -1      \n",
    "    number1 = int(abs(number)*10**(precision+1))\n",
    "    if number1 % 10 >= 5:\n",
    "        number1 += 10\n",
    "        number2 = int(number1/10)/10**(precision)\n",
    "    else:\n",
    "        #number1 += 1\n",
    "        number2 = int(number1/10)/10**(precision)\n",
    "    round_float = number2*fin\n",
    "    round_str = '{num:.{prec}f}'.format(num=round_float,prec=precision)\n",
    "    return round_float, round_str"
   ]
  },
  {
   "cell_type": "code",
   "execution_count": 11,
   "metadata": {},
   "outputs": [],
   "source": [
    "def main(argv):\n",
    "    print('main', argv)"
   ]
  },
  {
   "cell_type": "code",
   "execution_count": 16,
   "metadata": {},
   "outputs": [
    {
     "name": "stdout",
     "output_type": "stream",
     "text": [
      "main ['-f', 'C:\\\\Users\\\\funka\\\\AppData\\\\Roaming\\\\jupyter\\\\runtime\\\\kernel-592e928e-c597-4ebd-a8af-0f6cca3a7f7b.json']\n"
     ]
    }
   ],
   "source": [
    "if __name__ == '__main__':\n",
    "    main(sys.argv[1:])"
   ]
  },
  {
   "cell_type": "code",
   "execution_count": 18,
   "metadata": {},
   "outputs": [
    {
     "name": "stdout",
     "output_type": "stream",
     "text": [
      "main 1200, 5\n"
     ]
    }
   ],
   "source": [
    "main('1200, 5')"
   ]
  },
  {
   "cell_type": "code",
   "execution_count": null,
   "metadata": {},
   "outputs": [],
   "source": []
  }
 ],
 "metadata": {
  "kernelspec": {
   "display_name": "Python 3",
   "language": "python",
   "name": "python3"
  },
  "language_info": {
   "codemirror_mode": {
    "name": "ipython",
    "version": 3
   },
   "file_extension": ".py",
   "mimetype": "text/x-python",
   "name": "python",
   "nbconvert_exporter": "python",
   "pygments_lexer": "ipython3",
   "version": "3.8.6"
  }
 },
 "nbformat": 4,
 "nbformat_minor": 4
}
