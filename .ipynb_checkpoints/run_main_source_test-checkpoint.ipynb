{
 "cells": [
  {
   "cell_type": "code",
   "execution_count": 1,
   "metadata": {},
   "outputs": [],
   "source": [
    "def rd(number: float, precision: int = 0) -> (float, str):\n",
    "    '''\n",
    "    Returns rounded float and string with defined precicion.\n",
    "    \n",
    "    INPUT:\n",
    "    number: float, to be rounded\n",
    "    precision: int, precision used whe rounding\n",
    "    \n",
    "    OUTPUT:\n",
    "    round_float: float\n",
    "    round_str: str\n",
    "    '''\n",
    "    fin = 1\n",
    "    if number < 0: fin = -1      \n",
    "    number1 = int(abs(number)*10**(precision+1))\n",
    "    if number1 % 10 >= 5:\n",
    "        number1 += 10\n",
    "        number2 = int(number1/10)/10**(precision)\n",
    "    else:\n",
    "        #number1 += 1\n",
    "        number2 = int(number1/10)/10**(precision)\n",
    "    round_float = number2*fin\n",
    "    round_str = '{num:.{prec}f}'.format(num=round_float,prec=precision)\n",
    "    return round_float, round_str"
   ]
  },
  {
   "cell_type": "code",
   "execution_count": 2,
   "metadata": {},
   "outputs": [
    {
     "data": {
      "text/plain": [
       "(-11.146, '-11.146')"
      ]
     },
     "execution_count": 2,
     "metadata": {},
     "output_type": "execute_result"
    }
   ],
   "source": [
    "rd(-11.1455, 3)"
   ]
  },
  {
   "cell_type": "code",
   "execution_count": 3,
   "metadata": {},
   "outputs": [
    {
     "name": "stdout",
     "output_type": "stream",
     "text": [
      "\n",
      "    Returns rounded float and string with defined precicion.\n",
      "    \n",
      "    INPUT:\n",
      "    number: float, to be rounded\n",
      "    precision: int, precision used whe rounding\n",
      "    \n",
      "    OUTPUT:\n",
      "    round_float: float\n",
      "    round_str: str\n",
      "    \n"
     ]
    }
   ],
   "source": [
    "print(rd.__doc__)"
   ]
  },
  {
   "cell_type": "code",
   "execution_count": 4,
   "metadata": {},
   "outputs": [],
   "source": [
    "inputs = [-2.5, -1.5, -0.5, 0, 0.5, 1.5, 2.5]\n",
    "results_python = [-2.0, -2.0, 0, 0, 0, 2.0, 2.0]\n",
    "results_rd = [-3.0, -2.0, -1.0, 0.0, 1.0, 2.0, 3.0]"
   ]
  },
  {
   "cell_type": "code",
   "execution_count": 8,
   "metadata": {},
   "outputs": [],
   "source": [
    "for i, number in enumerate(inputs):\n",
    "    rnumber = round(number)\n",
    "    assert round(number) == results_python[i], f'Number {rnumber} not equal to {results_python[i]}'"
   ]
  },
  {
   "cell_type": "code",
   "execution_count": 9,
   "metadata": {},
   "outputs": [],
   "source": [
    "for i, number in enumerate(inputs):\n",
    "    rnumber, rstring = rd(number)\n",
    "    assert rnumber == results_rd[i], f'Number {rnumber} not equal to {results_rd[i]}'"
   ]
  },
  {
   "cell_type": "code",
   "execution_count": 10,
   "metadata": {},
   "outputs": [
    {
     "name": "stdout",
     "output_type": "stream",
     "text": [
      "Error in reading more values: []\n",
      "Reading completed.\n",
      "Assert of 100 values completed.\n"
     ]
    }
   ],
   "source": [
    "with open ('Book1.txt', 'r') as f:\n",
    "    dic = {}\n",
    "    columns = f.readline().split()\n",
    "    for col in columns:\n",
    "        dic[col] = []\n",
    "    while True:\n",
    "        try:\n",
    "            values = f.readline().split()\n",
    "            assert len(columns) == len(values), print('Error in reading more values: {}'.format(values))\n",
    "            for i, col in enumerate(columns):\n",
    "                dic[col].append(values[i])\n",
    "        except:\n",
    "            print('Reading completed.')\n",
    "            break\n",
    "\n",
    "for number, precision, result in zip(*[value for value in dic.values()]):\n",
    "    try:\n",
    "        number, precision, result = float(number), int(precision), float(result)\n",
    "    except:\n",
    "        pass\n",
    "    #print(number,precision,result, rd(number, precision))\n",
    "    assert result == rd(number, precision)[0]\n",
    "\n",
    "print('Assert of {} values completed.'.format(len(list(zip(*[value for value in dic.values()])))))"
   ]
  },
  {
   "cell_type": "code",
   "execution_count": 13,
   "metadata": {},
   "outputs": [
    {
     "name": "stdout",
     "output_type": "stream",
     "text": [
      "(12.0, '12')\n"
     ]
    }
   ],
   "source": [
    "print(rd(11.59))"
   ]
  },
  {
   "cell_type": "code",
   "execution_count": 14,
   "metadata": {},
   "outputs": [
    {
     "name": "stdout",
     "output_type": "stream",
     "text": [
      "(11.6, '11.6')\n"
     ]
    }
   ],
   "source": [
    "print(rd(11.59,1))"
   ]
  },
  {
   "cell_type": "code",
   "execution_count": 17,
   "metadata": {},
   "outputs": [
    {
     "name": "stdout",
     "output_type": "stream",
     "text": [
      "12.0\n"
     ]
    }
   ],
   "source": [
    "print(str(rd(11.59)[0]))"
   ]
  },
  {
   "cell_type": "code",
   "execution_count": 19,
   "metadata": {},
   "outputs": [
    {
     "name": "stdout",
     "output_type": "stream",
     "text": [
      "12\n"
     ]
    }
   ],
   "source": [
    "print(rd(11.59)[1])"
   ]
  },
  {
   "cell_type": "code",
   "execution_count": null,
   "metadata": {},
   "outputs": [],
   "source": []
  }
 ],
 "metadata": {
  "kernelspec": {
   "display_name": "Python 3",
   "language": "python",
   "name": "python3"
  },
  "language_info": {
   "codemirror_mode": {
    "name": "ipython",
    "version": 3
   },
   "file_extension": ".py",
   "mimetype": "text/x-python",
   "name": "python",
   "nbconvert_exporter": "python",
   "pygments_lexer": "ipython3",
   "version": "3.8.6"
  }
 },
 "nbformat": 4,
 "nbformat_minor": 4
}
